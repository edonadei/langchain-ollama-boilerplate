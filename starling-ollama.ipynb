{
 "cells": [
  {
   "cell_type": "code",
   "execution_count": 19,
   "metadata": {},
   "outputs": [],
   "source": [
    "from langchain.llms import Ollama\n",
    "# model_used = \"starling-lm\"\n",
    "model_used = \"llama2\"\n",
    "llm = Ollama(model=model_used)"
   ]
  },
  {
   "cell_type": "code",
   "execution_count": 20,
   "metadata": {},
   "outputs": [],
   "source": [
    "from langchain.prompts import ChatPromptTemplate\n",
    "prompt = ChatPromptTemplate.from_messages([\n",
    "    (\"system\", \"You are world class technical documentation writer.\"),\n",
    "    (\"user\", \"{input}\")\n",
    "])"
   ]
  },
  {
   "cell_type": "code",
   "execution_count": 21,
   "metadata": {},
   "outputs": [],
   "source": [
    "chain = prompt | llm "
   ]
  },
  {
   "cell_type": "code",
   "execution_count": 22,
   "metadata": {},
   "outputs": [],
   "source": [
    "from langchain_core.output_parsers import StrOutputParser\n",
    "\n",
    "\n",
    "output_parser = StrOutputParser()"
   ]
  },
  {
   "cell_type": "code",
   "execution_count": 23,
   "metadata": {},
   "outputs": [],
   "source": [
    "chain = prompt | llm | output_parser"
   ]
  },
  {
   "cell_type": "code",
   "execution_count": 24,
   "metadata": {},
   "outputs": [
    {
     "data": {
      "text/plain": [
       "'\\nAs a world-class technical documentation writer, I can assist with testing in several ways:\\n\\n1. Content Creation: Langsmith can help create detailed and comprehensive test plans, test cases, and test scripts for various software applications, systems, and features. This includes creating user interface (UI) test cases, functional test cases, performance test cases, and security test cases.\\n2. Testing Documentation: I can assist in creating documentation that outlines the testing process, including the test environment, test data, test scenarios, and test results. This documentation can help ensure consistency and repeatability of tests, and provide a clear understanding of the testing process for developers, testers, and other stakeholders.\\n3. Test Automation: Langsmith can help automate repetitive and mundane testing tasks using tools like Selenium, Appium, or Pytest. By automating these tasks, we can free up time for more critical testing activities and reduce the risk of human error.\\n4. Collaborative Testing: As a technical writer, I can collaborate with developers and testers to create comprehensive documentation that covers all aspects of the software application or system being tested. This includes creating user manuals, API documentation, and other documentation that helps users and developers understand how to use the application or system effectively.\\n5. Defect Reporting: Langsmith can assist in identifying and reporting defects found during testing. By using tools like JIRA, Bugzilla, or Redmine, we can track and manage defects throughout the testing process, ensuring that they are resolved in a timely manner.\\n6. Testing Strategy Development: I can help develop a comprehensive testing strategy that aligns with the overall software development lifecycle. This includes identifying critical testing areas, creating test plans and test cases, and defining testing metrics to measure the effectiveness of the testing process.\\n7. Communication: As a technical writer, I can communicate complex technical information in a clear and concise manner. This includes creating user manuals, API documentation, and other documentation that helps users and developers understand how to use the application or system effectively.\\n8. Training: Langsmith can provide training to developers and testers on testing techniques, tools, and best practices. This can help ensure that everyone involved in the testing process is on the same page and using the same testing methodologies.\\n\\nIn summary, Langsmith can assist with testing by creating comprehensive documentation, automating repetitive tasks, collaborating with developers and testers, identifying and reporting defects, developing a testing strategy, communicating complex technical information, and providing training to stakeholders.'"
      ]
     },
     "execution_count": 24,
     "metadata": {},
     "output_type": "execute_result"
    }
   ],
   "source": [
    "chain.invoke({\"input\": \"how can langsmith help with testing?\"})"
   ]
  },
  {
   "cell_type": "code",
   "execution_count": 25,
   "metadata": {},
   "outputs": [],
   "source": [
    "from langchain_community.document_loaders import WebBaseLoader\n",
    "loader = WebBaseLoader(\"https://docs.smith.langchain.com/overview\")\n",
    "\n",
    "docs = loader.load()"
   ]
  },
  {
   "cell_type": "code",
   "execution_count": 26,
   "metadata": {},
   "outputs": [],
   "source": [
    "from langchain_community.embeddings import OllamaEmbeddings\n",
    "\n",
    "embeddings = OllamaEmbeddings()"
   ]
  },
  {
   "cell_type": "code",
   "execution_count": 27,
   "metadata": {},
   "outputs": [],
   "source": [
    "from langchain_community.vectorstores.docarray import DocArrayInMemorySearch\n",
    "from langchain.text_splitter import RecursiveCharacterTextSplitter\n",
    "\n",
    "\n",
    "text_splitter = RecursiveCharacterTextSplitter()\n",
    "documents = text_splitter.split_documents(docs)\n",
    "vector = DocArrayInMemorySearch.from_documents(documents, embeddings)"
   ]
  },
  {
   "cell_type": "code",
   "execution_count": 28,
   "metadata": {},
   "outputs": [],
   "source": [
    "from langchain.chains.combine_documents import create_stuff_documents_chain\n",
    "\n",
    "prompt = ChatPromptTemplate.from_template(\"\"\"Answer the following question based only on the provided context:\n",
    "\n",
    "<context>\n",
    "{context}\n",
    "</context>\n",
    "\n",
    "Question: {input}\"\"\")\n",
    "\n",
    "document_chain = create_stuff_documents_chain(llm, prompt)"
   ]
  },
  {
   "cell_type": "code",
   "execution_count": 29,
   "metadata": {},
   "outputs": [
    {
     "data": {
      "text/plain": [
       "'\\nBased on the provided context, langsmith can help with testing by allowing users to visualize their test results.'"
      ]
     },
     "execution_count": 29,
     "metadata": {},
     "output_type": "execute_result"
    }
   ],
   "source": [
    "from langchain_core.documents import Document\n",
    "\n",
    "document_chain.invoke({\n",
    "    \"input\": \"how can langsmith help with testing?\",\n",
    "    \"context\": [Document(page_content=\"langsmith can let you visualize test results\")]\n",
    "})"
   ]
  },
  {
   "cell_type": "code",
   "execution_count": 30,
   "metadata": {},
   "outputs": [],
   "source": [
    "from langchain.chains import create_retrieval_chain\n",
    "\n",
    "retriever = vector.as_retriever()\n",
    "retrieval_chain = create_retrieval_chain(retriever, document_chain)"
   ]
  },
  {
   "cell_type": "code",
   "execution_count": 31,
   "metadata": {},
   "outputs": [
    {
     "name": "stdout",
     "output_type": "stream",
     "text": [
      "\n",
      "LangSmith can help with testing in several ways:\n",
      "\n",
      "1. Visualization: LangSmith provides a visual interface for reviewing and annotating runs, which can help identify areas of the chain that need improvement.\n",
      "2. Automatic evaluation metrics: LangSmith includes evaluators that can be specified when initiating a test run, providing automatic metrics for evaluating the results.\n",
      "3. Human evaluation: LangSmith makes it easy to manually review and annotate runs through annotation queues, allowing for subjective assessments of creativity or humor, as well as validation of auto-evaluated runs.\n",
      "4. Monitoring: LangSmith can be used to monitor applications in much the same way that it was used for debugging, logging traced runs and visualizing latency and token usage statistics.\n",
      "5. Exporting datasets: LangSmith makes it easy to curate datasets, which can be exported for use in other contexts, such as OpenAI Evals or fine-tuning with FireworksAI.\n",
      "\n",
      "Overall, LangSmith simplifies dataset uploading, testing, and evaluation, making it easier to build and prototype LLM applications.\n"
     ]
    }
   ],
   "source": [
    "response = retrieval_chain.invoke({\"input\": \"how can langsmith help with testing?\"})\n",
    "print(response[\"answer\"])\n",
    "\n",
    "# LangSmith offers several features that can help with testing:..."
   ]
  }
 ],
 "metadata": {
  "kernelspec": {
   "display_name": "Python 3",
   "language": "python",
   "name": "python3"
  },
  "language_info": {
   "codemirror_mode": {
    "name": "ipython",
    "version": 3
   },
   "file_extension": ".py",
   "mimetype": "text/x-python",
   "name": "python",
   "nbconvert_exporter": "python",
   "pygments_lexer": "ipython3",
   "version": "3.8.17"
  }
 },
 "nbformat": 4,
 "nbformat_minor": 2
}
